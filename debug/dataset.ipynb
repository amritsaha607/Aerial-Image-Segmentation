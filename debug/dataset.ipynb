{
 "cells": [
  {
   "cell_type": "code",
   "execution_count": 1,
   "metadata": {},
   "outputs": [],
   "source": [
    "import sys\n",
    "sys.path.append('../')"
   ]
  },
  {
   "cell_type": "code",
   "execution_count": 2,
   "metadata": {},
   "outputs": [],
   "source": [
    "import matplotlib.pyplot as plt\n",
    "import numpy as np\n",
    "from PIL import Image\n",
    "from data.dataset import SegmentDataset\n",
    "from data.transforms import transform\n",
    "from utils.vis import showImageMask\n",
    "from utils.parameters import color2index\n",
    "from torch.utils.data import DataLoader"
   ]
  },
  {
   "cell_type": "code",
   "execution_count": 3,
   "metadata": {},
   "outputs": [],
   "source": [
    "dataset = SegmentDataset(annot='../assets/train.txt', transform=transform)"
   ]
  },
  {
   "cell_type": "code",
   "execution_count": 4,
   "metadata": {},
   "outputs": [
    {
     "name": "stdout",
     "output_type": "stream",
     "text": [
      "(3072, 3328)\n",
      "[0 1 2]\n"
     ]
    }
   ],
   "source": [
    "image_path, mask_path, image, mask = dataset[0]\n",
    "# showImageMask(image, mask, use_path=False, debug=True)"
   ]
  },
  {
   "cell_type": "code",
   "execution_count": 7,
   "metadata": {},
   "outputs": [
    {
     "name": "stdout",
     "output_type": "stream",
     "text": [
      "(2816, 3328)\n",
      "[0 1 2]\n"
     ]
    }
   ],
   "source": [
    "mask_path = '/content/data/chicago/chicago51_labels.png'\n",
    "mask = Image.open(mask_path)\n",
    "mask = np.array(mask)\n",
    "for k in color2index:\n",
    "    mask[(mask == k).all(axis=2)] = color2index[k]\n",
    "mask = mask[:, :, 0]\n",
    "print(mask.shape)\n",
    "print(np.unique(mask))\n"
   ]
  },
  {
   "cell_type": "code",
   "execution_count": null,
   "metadata": {},
   "outputs": [],
   "source": []
  }
 ],
 "metadata": {
  "kernelspec": {
   "display_name": "Python 3",
   "language": "python",
   "name": "python3"
  },
  "language_info": {
   "codemirror_mode": {
    "name": "ipython",
    "version": 3
   },
   "file_extension": ".py",
   "mimetype": "text/x-python",
   "name": "python",
   "nbconvert_exporter": "python",
   "pygments_lexer": "ipython3",
   "version": "3.6.9"
  }
 },
 "nbformat": 4,
 "nbformat_minor": 4
}
