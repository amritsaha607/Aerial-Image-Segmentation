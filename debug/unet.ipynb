{
 "cells": [
  {
   "cell_type": "code",
   "execution_count": 1,
   "metadata": {},
   "outputs": [],
   "source": [
    "import sys\n",
    "sys.path.append('../')"
   ]
  },
  {
   "cell_type": "code",
   "execution_count": 2,
   "metadata": {},
   "outputs": [
    {
     "name": "stderr",
     "output_type": "stream",
     "text": [
      "/usr/local/lib/python3.6/dist-packages/statsmodels/tools/_testing.py:19: FutureWarning: pandas.util.testing is deprecated. Use the functions in the public API at pandas.testing instead.\n",
      "  import pandas.util.testing as tm\n"
     ]
    }
   ],
   "source": [
    "import os\n",
    "import argparse\n",
    "import yaml\n",
    "import wandb\n",
    "import random\n",
    "import time\n",
    "\n",
    "import math\n",
    "import numpy as np\n",
    "import torch\n",
    "import torch.nn as nn\n",
    "\n",
    "from data.dataset import SegmentDataset\n",
    "from data.transforms import transform\n",
    "from data.collate import collate\n",
    "from torch.utils.data import DataLoader\n",
    "from models.model import SegmentModel\n",
    "from models.utils.loss import PixelLoss\n",
    "from metrics.metrics import pixelAccuracy, gatherMetrics\n",
    "from metrics.pred import predict, getMask\n",
    "from utils.vis import showPredictions\n",
    "from utils.decorators import timer\n",
    "from utils.parameters import *\n",
    "from metrics.metrics import bakeWeight\n",
    "from metrics.utils import conf_operations\n",
    "\n",
    "from models.unet import UNet"
   ]
  },
  {
   "cell_type": "code",
   "execution_count": 3,
   "metadata": {},
   "outputs": [],
   "source": [
    "version = 'OF_street_v10'\n",
    "cfg_path = '../configs/{}.yml'.format(version.replace('_', '/').replace('-', '/'))\n",
    "all_configs = yaml.safe_load(open(cfg_path))\n",
    "\n",
    "\n",
    "random_seed = int(all_configs['random_seed'])\n",
    "batch_size = int(all_configs['batch_size'])\n",
    "num_classes = int(all_configs['num_classes'])\n",
    "if num_classes==2:\n",
    "    ftr = all_configs['ftr']\n",
    "    if ftr.lower()=='street':\n",
    "        index2name = index2name_street\n",
    "        color2index = color2index_street\n",
    "    elif ftr.lower()=='building':\n",
    "        index2name = index2name_building\n",
    "        color2index = color2index_building\n",
    "    else:\n",
    "        raise ValueError(\"Unknown feature found - {}\".format(ftr))\n",
    "\n",
    "n_epoch = int(all_configs['n_epoch'])\n",
    "train_annot = '../'+all_configs['train_annot']\n",
    "val_annot = '../'+all_configs['val_annot']\n",
    "\n",
    "n_segment_layers = all_configs['n_segment_layers']\n",
    "tail = all_configs['tail'] if 'tail' in all_configs else None\n",
    "pretrained = all_configs['pretrained'] if 'pretrained' in all_configs else None\n",
    "\n",
    "optimizer = all_configs['optimizer']\n",
    "lr = float(all_configs['lr'])\n",
    "weight_decay = float(all_configs['weight_decay'])\n",
    "adam_eps = float(all_configs['adam_eps'])\n",
    "amsgrad = all_configs['amsgrad']\n",
    "\n",
    "CHCEKPOINT_DIR = all_configs['CHCEKPOINT_DIR']\n",
    "ckpt_dir = os.path.join(CHCEKPOINT_DIR, version)\n",
    "\n",
    "vis_batch = all_configs['vis_batch'] if ('vis_batch' in all_configs) else None \n",
    "metric_batch = all_configs['metric_batch'] if ('metric_batch' in all_configs) else None\n",
    "use_augmentation = all_configs['use_augmentation']\n",
    "loss_weights, hnm = None, None\n",
    "\n",
    "if 'hnm' in all_configs:\n",
    "    hnm = float(all_configs['hnm'])\n",
    "\n",
    "if 'loss_weights' in all_configs:\n",
    "    loss_weights = torch.FloatTensor(all_configs['loss_weights'])"
   ]
  },
  {
   "cell_type": "code",
   "execution_count": 4,
   "metadata": {},
   "outputs": [],
   "source": [
    "model = UNet(n_channels=3, n_classes=2).cuda()\n",
    "\n",
    "# model = SegmentModel(num_features=num_classes, n_layers=n_segment_layers).cuda()\n",
    "criterion = PixelLoss(num_classes=num_classes, loss_weights=loss_weights, hnm=hnm)\n",
    "\n",
    "if optimizer=='adam':\n",
    "    optimizer = torch.optim.Adam(\n",
    "        model.parameters(), \n",
    "        lr=lr, weight_decay=weight_decay, eps=adam_eps, amsgrad=amsgrad\n",
    "    )\n",
    "\n",
    "scheduler = None\n",
    "train_losses, val_losses = [], []\n",
    "if 'scheduler' in all_configs:\n",
    "    sch_factor = all_configs['scheduler']\n",
    "    lr_lambda = lambda epoch: sch_factor**epoch\n",
    "    scheduler = torch.optim.lr_scheduler.LambdaLR(optimizer, lr_lambda)\n",
    "\n",
    "train_set = SegmentDataset(\n",
    "    annot=train_annot, \n",
    "    transform=transform, \n",
    "    dim=(1024, 1024), \n",
    "    c2i=color2index\n",
    ")\n",
    "train_loader = DataLoader(\n",
    "    train_set,\n",
    "    batch_size=batch_size,\n",
    "    num_workers=8,\n",
    "    collate_fn=collate,\n",
    ")"
   ]
  },
  {
   "cell_type": "code",
   "execution_count": 5,
   "metadata": {},
   "outputs": [
    {
     "name": "stdout",
     "output_type": "stream",
     "text": [
      "torch.Size([1, 2, 1024, 1024])\n",
      "torch.Size([1, 2, 1024, 1024])\n",
      "torch.Size([1, 2, 1024, 1024])\n",
      "torch.Size([1, 2, 1024, 1024])\n",
      "torch.Size([1, 2, 1024, 1024])\n",
      "torch.Size([1, 2, 1024, 1024])\n",
      "torch.Size([1, 2, 1024, 1024])\n",
      "torch.Size([1, 2, 1024, 1024])\n",
      "torch.Size([1, 2, 1024, 1024])\n",
      "torch.Size([1, 2, 1024, 1024])\n",
      "torch.Size([1, 2, 1024, 1024])\n",
      "torch.Size([1, 2, 1024, 1024])\n",
      "torch.Size([1, 2, 1024, 1024])\n",
      "torch.Size([1, 2, 1024, 1024])\n",
      "torch.Size([1, 2, 1024, 1024])\n",
      "torch.Size([1, 2, 1024, 1024])\n",
      "torch.Size([1, 2, 1024, 1024])\n",
      "torch.Size([1, 2, 1024, 1024])\n"
     ]
    }
   ],
   "source": [
    "for (_, _, img, mask) in train_loader:\n",
    "    y_pred = model(img.cuda()).detach().cpu()\n",
    "    img = img.detach().cpu()\n",
    "    print(y_pred.shape)"
   ]
  },
  {
   "cell_type": "code",
   "execution_count": null,
   "metadata": {},
   "outputs": [],
   "source": []
  }
 ],
 "metadata": {
  "kernelspec": {
   "display_name": "Python 3",
   "language": "python",
   "name": "python3"
  },
  "language_info": {
   "codemirror_mode": {
    "name": "ipython",
    "version": 3
   },
   "file_extension": ".py",
   "mimetype": "text/x-python",
   "name": "python",
   "nbconvert_exporter": "python",
   "pygments_lexer": "ipython3",
   "version": "3.6.9"
  }
 },
 "nbformat": 4,
 "nbformat_minor": 4
}
