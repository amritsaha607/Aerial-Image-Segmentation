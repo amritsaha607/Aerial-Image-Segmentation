{
 "cells": [
  {
   "cell_type": "code",
   "execution_count": 1,
   "metadata": {},
   "outputs": [],
   "source": [
    "from collections import defaultdict\n",
    "import collections, functools, operator\n",
    "import numpy as np"
   ]
  },
  {
   "cell_type": "code",
   "execution_count": 2,
   "metadata": {},
   "outputs": [
    {
     "name": "stdout",
     "output_type": "stream",
     "text": [
      "a : 10\n",
      "b : 15\n",
      "c : 3\n"
     ]
    }
   ],
   "source": [
    "d1 = {'a': 1, 'b': 2, 'c': 3,}\n",
    "d2 = {'a': 4, 'b': 5}\n",
    "d3 = {'a': 5, 'b': 8}\n",
    "list_d = [d1, d2, d3]\n",
    "\n",
    "res = dict(functools.reduce(operator.add, map(collections.Counter, list_d)))\n",
    "for key, val in res.items():\n",
    "    print(\"{} : {}\".format(key, val))"
   ]
  },
  {
   "cell_type": "code",
   "execution_count": 9,
   "metadata": {},
   "outputs": [],
   "source": [
    "def listAdd(lists):\n",
    "    res = np.array([0]*len(lists[0]))\n",
    "    lists = np.array(lists)\n",
    "    for elem in lists:\n",
    "        res += elem\n",
    "    return res\n",
    "\n",
    "def dictAdd(ld, weights=None):\n",
    "    '''\n",
    "        Add corresponding keys of list of dicts\n",
    "        no matter how nested the dict is\n",
    "        Args:\n",
    "            ld : List of dicts\n",
    "            weights : for weighted sum\n",
    "        Returns:\n",
    "            res : Final dict with added values\n",
    "    '''\n",
    "    n = len(ld)\n",
    "    keys = ld[0].keys()\n",
    "    res = {}\n",
    "\n",
    "    if weights is not None:\n",
    "        for i in range(n):\n",
    "            ld[i] = dictMultiply(ld[i], weights[i])\n",
    "\n",
    "    for key in keys:\n",
    "        if isinstance(ld[0][key], dict):\n",
    "            res[key] = dictAdd([ld[i][key] for i in range(n)])\n",
    "        elif isinstance(ld[0][key], list):\n",
    "            res[key] = listAdd([ld[i][key] for i in range(n)])\n",
    "        else:\n",
    "            res[key] = sum([ld[i][key] for i in range(n)])\n",
    "\n",
    "    return res\n"
   ]
  },
  {
   "cell_type": "code",
   "execution_count": 10,
   "metadata": {},
   "outputs": [
    {
     "name": "stdout",
     "output_type": "stream",
     "text": [
      "a : {'a1': 61, 'a2': 58}\n",
      "b : 15\n"
     ]
    }
   ],
   "source": [
    "d1 = {'a': {'a1': 22, 'a2': 8}, 'b': 2}\n",
    "d2 = {'a': {'a1': 28, 'a2': 15}, 'b': 5}\n",
    "d3 = {'a': {'a1': 11, 'a2': 35}, 'b': 8}\n",
    "list_d = [d1, d2, d3]\n",
    "\n",
    "res = dictAdd(list_d)\n",
    "\n",
    "for key, val in res.items():\n",
    "    print(\"{} : {}\".format(key, val))"
   ]
  },
  {
   "cell_type": "code",
   "execution_count": 11,
   "metadata": {},
   "outputs": [
    {
     "name": "stdout",
     "output_type": "stream",
     "text": [
      "a : {'a1': {'a11': 12, 'a12': 22}, 'a2': 64}\n",
      "b : 33\n"
     ]
    }
   ],
   "source": [
    "d1 = {\n",
    "    'a': {\n",
    "        'a1': {'a11': 11, 'a12': 12}, \n",
    "        'a2': 8,\n",
    "    }, \n",
    "    'b': 2\n",
    "}\n",
    "d2 = {\n",
    "    'a': {\n",
    "        'a1': {'a11': 1, 'a12': 8}, \n",
    "        'a2': 18,\n",
    "    }, \n",
    "    'b': 4\n",
    "}\n",
    "d3 = {\n",
    "    'a': {\n",
    "        'a1': {'a11': 0, 'a12': 2}, \n",
    "        'a2': 38,\n",
    "    }, \n",
    "    'b': 27\n",
    "}\n",
    "list_d = [d1, d2, d3]\n",
    "\n",
    "res = dictAdd(list_d)\n",
    "\n",
    "for key, val in res.items():\n",
    "    print(\"{} : {}\".format(key, val))"
   ]
  },
  {
   "cell_type": "code",
   "execution_count": 12,
   "metadata": {},
   "outputs": [
    {
     "name": "stdout",
     "output_type": "stream",
     "text": [
      "a : {'a1': array([12, 22]), 'a2': 64}\n",
      "b : 33\n"
     ]
    }
   ],
   "source": [
    "d1 = {\n",
    "    'a': {\n",
    "        'a1': [11, 12], \n",
    "        'a2': 8,\n",
    "    }, \n",
    "    'b': 2\n",
    "}\n",
    "d2 = {\n",
    "    'a': {\n",
    "        'a1': [1, 8], \n",
    "        'a2': 18,\n",
    "    }, \n",
    "    'b': 4\n",
    "}\n",
    "d3 = {\n",
    "    'a': {\n",
    "        'a1': [0, 2], \n",
    "        'a2': 38,\n",
    "    }, \n",
    "    'b': 27\n",
    "}\n",
    "list_d = [d1, d2, d3]\n",
    "\n",
    "res = dictAdd(list_d)\n",
    "\n",
    "for key, val in res.items():\n",
    "    print(\"{} : {}\".format(key, val))"
   ]
  },
  {
   "cell_type": "code",
   "execution_count": 13,
   "metadata": {},
   "outputs": [],
   "source": [
    "\n",
    "def dictRatio(d1, d2):\n",
    "    keys = d1.keys()\n",
    "    res = {}\n",
    "    for key in keys:\n",
    "        if isinstance(d1[key], dict):\n",
    "            res[key] = dictRatio(d1[key], d2[key])\n",
    "        elif isinstance(d1[key], list):\n",
    "            res[key] = np.array(d1[key])/np.array(d2[key])\n",
    "        else:\n",
    "            res[key] = d1[key]/d2[key] if d2[key]!=0 else 0\n",
    "    return res\n"
   ]
  },
  {
   "cell_type": "code",
   "execution_count": 14,
   "metadata": {},
   "outputs": [
    {
     "data": {
      "text/plain": [
       "{'a': {'a1': array([11. ,  1.5]), 'a2': 0.4444444444444444}, 'b': 0.5}"
      ]
     },
     "execution_count": 14,
     "metadata": {},
     "output_type": "execute_result"
    }
   ],
   "source": [
    "d1 = {\n",
    "    'a': {\n",
    "        'a1': [11, 12], \n",
    "        'a2': 8,\n",
    "    }, \n",
    "    'b': 2\n",
    "}\n",
    "d2 = {\n",
    "    'a': {\n",
    "        'a1': [1, 8], \n",
    "        'a2': 18,\n",
    "    }, \n",
    "    'b': 4\n",
    "}\n",
    "dictRatio(d1, d2)"
   ]
  },
  {
   "cell_type": "code",
   "execution_count": 17,
   "metadata": {},
   "outputs": [],
   "source": [
    "# Multiply\n",
    "\n",
    "def dictMultiply(d1, d2):\n",
    "    '''\n",
    "        in case any key is not found in d2, the d1 value will be kept in res\n",
    "    '''\n",
    "    keys = d1.keys()\n",
    "    res = {}\n",
    "    for key in keys:\n",
    "        if not key in d2.keys():\n",
    "            res[key] = d1[key]\n",
    "        elif isinstance(d1[key], dict):\n",
    "            res[key] = dictMultiply(d1[key], d2[key])\n",
    "        elif isinstance(d1[key], list):\n",
    "            res[key] = np.array(d1[key])*np.array(d2[key])\n",
    "        else:\n",
    "            res[key] = d1[key]*d2[key]\n",
    "    return res\n"
   ]
  },
  {
   "cell_type": "code",
   "execution_count": 19,
   "metadata": {},
   "outputs": [
    {
     "data": {
      "text/plain": [
       "{'a': {'a1': array([11, 24]), 'a2': 16}, 'b': 3.0}"
      ]
     },
     "execution_count": 19,
     "metadata": {},
     "output_type": "execute_result"
    }
   ],
   "source": [
    "d1 = {\n",
    "    'a': {\n",
    "        'a1': [11, 12], \n",
    "        'a2': 8,\n",
    "    }, \n",
    "    'b': 2\n",
    "}\n",
    "wd1 = {\n",
    "    'a': {\n",
    "        'a1': [1, 2], \n",
    "        'a2': 2,\n",
    "    }, \n",
    "    'b': 1.5\n",
    "}\n",
    "dictMultiply(d1, wd1)"
   ]
  },
  {
   "cell_type": "code",
   "execution_count": null,
   "metadata": {},
   "outputs": [],
   "source": []
  }
 ],
 "metadata": {
  "kernelspec": {
   "display_name": "Python 3",
   "language": "python",
   "name": "python3"
  },
  "language_info": {
   "codemirror_mode": {
    "name": "ipython",
    "version": 3
   },
   "file_extension": ".py",
   "mimetype": "text/x-python",
   "name": "python",
   "nbconvert_exporter": "python",
   "pygments_lexer": "ipython3",
   "version": "3.6.9"
  }
 },
 "nbformat": 4,
 "nbformat_minor": 4
}
