{
 "cells": [
  {
   "cell_type": "code",
   "execution_count": 1,
   "metadata": {},
   "outputs": [],
   "source": [
    "import sys\n",
    "sys.path.append('../')"
   ]
  },
  {
   "cell_type": "code",
   "execution_count": 2,
   "metadata": {},
   "outputs": [],
   "source": [
    "import numpy as np\n",
    "import torch\n",
    "\n",
    "from metrics.metrics import pixelConfusion"
   ]
  },
  {
   "cell_type": "code",
   "execution_count": 3,
   "metadata": {},
   "outputs": [],
   "source": [
    "n_classes, H, W = 3, 200, 200"
   ]
  },
  {
   "cell_type": "code",
   "execution_count": 4,
   "metadata": {},
   "outputs": [
    {
     "name": "stdout",
     "output_type": "stream",
     "text": [
      "dict_keys([0, 1, 2])\n",
      "defaultdict(<class 'dict'>, {'Background': {'Background': 4478, 'Building': 4435, 'Street': 4500}, 'Building': {'Background': 4462, 'Building': 4396, 'Street': 4384}, 'Street': {'Background': 4421, 'Building': 4423, 'Street': 4501}})\n"
     ]
    },
    {
     "name": "stderr",
     "output_type": "stream",
     "text": [
      "\u001b[34m\u001b[1mwandb\u001b[0m: Visualizing heatmap.\n"
     ]
    }
   ],
   "source": [
    "img1 = (np.random.rand(H, W)*n_classes).astype(np.int)\n",
    "img2 = (np.random.rand(H, W)*n_classes).astype(np.int)\n",
    "\n",
    "conf = pixelConfusion(img1, img2, heatmap=True)"
   ]
  },
  {
   "cell_type": "code",
   "execution_count": 8,
   "metadata": {},
   "outputs": [
    {
     "name": "stdout",
     "output_type": "stream",
     "text": [
      "40000\n"
     ]
    }
   ],
   "source": [
    "res = 0\n",
    "for val in conf.values():\n",
    "    for v in val.values():\n",
    "        res += v\n",
    "print(res)\n",
    "# sum([val.values() for val in conf.values()])"
   ]
  },
  {
   "cell_type": "code",
   "execution_count": 9,
   "metadata": {},
   "outputs": [
    {
     "data": {
      "text/plain": [
       "defaultdict(dict,\n",
       "            {'Background': {'Background': 4415,\n",
       "              'Building': 4479,\n",
       "              'Street': 4422},\n",
       "             'Building': {'Background': 4437,\n",
       "              'Building': 4428,\n",
       "              'Street': 4422},\n",
       "             'Street': {'Background': 4496, 'Building': 4361, 'Street': 4540}})"
      ]
     },
     "execution_count": 9,
     "metadata": {},
     "output_type": "execute_result"
    }
   ],
   "source": [
    "conf"
   ]
  },
  {
   "cell_type": "code",
   "execution_count": null,
   "metadata": {},
   "outputs": [],
   "source": []
  }
 ],
 "metadata": {
  "kernelspec": {
   "display_name": "Python 3",
   "language": "python",
   "name": "python3"
  },
  "language_info": {
   "codemirror_mode": {
    "name": "ipython",
    "version": 3
   },
   "file_extension": ".py",
   "mimetype": "text/x-python",
   "name": "python",
   "nbconvert_exporter": "python",
   "pygments_lexer": "ipython3",
   "version": "3.6.9"
  }
 },
 "nbformat": 4,
 "nbformat_minor": 4
}
