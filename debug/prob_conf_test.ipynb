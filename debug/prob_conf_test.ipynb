{
 "cells": [
  {
   "cell_type": "code",
   "execution_count": 1,
   "metadata": {},
   "outputs": [],
   "source": [
    "import sys\n",
    "sys.path.append('../')\n",
    "\n",
    "import matplotlib.pyplot as plt"
   ]
  },
  {
   "cell_type": "code",
   "execution_count": 2,
   "metadata": {},
   "outputs": [
    {
     "name": "stderr",
     "output_type": "stream",
     "text": [
      "/usr/local/lib/python3.6/dist-packages/statsmodels/tools/_testing.py:19: FutureWarning: pandas.util.testing is deprecated. Use the functions in the public API at pandas.testing instead.\n",
      "  import pandas.util.testing as tm\n"
     ]
    }
   ],
   "source": [
    "import os\n",
    "import argparse\n",
    "import yaml\n",
    "import wandb\n",
    "import random\n",
    "import time\n",
    "\n",
    "import numpy as np\n",
    "import torch\n",
    "import torch.nn as nn\n",
    "\n",
    "from data.dataset import SegmentDataset\n",
    "from data.transforms import transform\n",
    "from data.collate import collate\n",
    "from torch.utils.data import DataLoader\n",
    "from models.model import SegmentModel\n",
    "from models.utils.loss import PixelLoss\n",
    "from metrics.metrics import pixelAccuracy, gatherMetrics\n",
    "from metrics.pred import predict, getMask\n",
    "from utils.vis import showPredictions\n",
    "from utils.decorators import timer\n",
    "from utils.parameters import *"
   ]
  },
  {
   "cell_type": "code",
   "execution_count": 5,
   "metadata": {},
   "outputs": [],
   "source": [
    "\n",
    "version = 'street_v4'\n",
    "cfg_path = '../configs/{}.yml'.format(version.replace('_', '/'))\n",
    "all_configs = yaml.safe_load(open(cfg_path))\n",
    "\n",
    "\n",
    "random_seed = int(all_configs['random_seed'])\n",
    "batch_size = int(all_configs['batch_size'])\n",
    "num_classes = int(all_configs['num_classes'])\n",
    "if num_classes==2:\n",
    "    ftr = all_configs['ftr']\n",
    "    if ftr.lower()=='street':\n",
    "        index2name = index2name_street\n",
    "        color2index = color2index_street\n",
    "    elif ftr.lower()=='building':\n",
    "        index2name = index2name_building\n",
    "        color2index = color2index_building\n",
    "    else:\n",
    "        raise ValueError(\"Unknown feature found - {}\".format(ftr))\n",
    "\n",
    "n_epoch = int(all_configs['n_epoch'])\n",
    "train_annot = all_configs['train_annot']\n",
    "val_annot = all_configs['val_annot']\n",
    "n_segment_layers = all_configs['n_segment_layers']\n",
    "optimizer = all_configs['optimizer']\n",
    "lr = float(all_configs['lr'])\n",
    "weight_decay = float(all_configs['weight_decay'])\n",
    "adam_eps = float(all_configs['adam_eps'])\n",
    "amsgrad = all_configs['amsgrad']\n",
    "CHCEKPOINT_DIR = all_configs['CHCEKPOINT_DIR']\n",
    "ckpt_dir = os.path.join(CHCEKPOINT_DIR, version)\n",
    "use_augmentation = all_configs['use_augmentation']\n",
    "loss_weights = None\n",
    "if 'loss_weights' in all_configs:\n",
    "    loss_weights = torch.FloatTensor(all_configs['loss_weights'])\n",
    "\n",
    "if not os.path.exists(ckpt_dir):\n",
    "    os.makedirs(ckpt_dir)\n",
    "\n",
    "\n",
    "random.seed(random_seed)\n",
    "np.random.seed(random_seed)\n",
    "torch.manual_seed(random_seed)\n",
    "torch.cuda.manual_seed(random_seed)\n",
    "\n",
    "\n",
    "model = SegmentModel(num_features=num_classes, n_layers=n_segment_layers).cuda()\n",
    "criterion = PixelLoss(num_classes=num_classes, loss_weights=loss_weights)\n",
    "\n",
    "if optimizer=='adam':\n",
    "    optimizer = torch.optim.Adam(\n",
    "        model.parameters(), \n",
    "        lr=lr, weight_decay=weight_decay, eps=adam_eps, amsgrad=amsgrad\n",
    "    )\n",
    "\n",
    "scheduler = None\n",
    "train_losses, val_losses = [], []\n",
    "if 'scheduler' in all_configs:\n",
    "    sch_factor = all_configs['scheduler']\n",
    "    lr_lambda = lambda epoch: sch_factor**epoch\n",
    "    scheduler = torch.optim.lr_scheduler.LambdaLR(optimizer, lr_lambda)\n",
    "\n",
    "train_set = SegmentDataset(\n",
    "    annot='../'+train_annot, \n",
    "    transform=transform, \n",
    "    dim=(2048, 2048), \n",
    "    c2i=color2index\n",
    ")\n",
    "train_loader = DataLoader(\n",
    "    train_set,\n",
    "    batch_size=batch_size,\n",
    "    num_workers=8,\n",
    "    collate_fn=collate,\n",
    ")"
   ]
  },
  {
   "cell_type": "code",
   "execution_count": 7,
   "metadata": {},
   "outputs": [],
   "source": [
    "n_batch = 2\n",
    "pred_fig_indices = list(range(0, len(train_loader)-1))\n",
    "random.shuffle(pred_fig_indices)\n",
    "pred_fig_indices = pred_fig_indices[:n_batch]"
   ]
  },
  {
   "cell_type": "code",
   "execution_count": 9,
   "metadata": {},
   "outputs": [],
   "source": [
    "\n",
    "@timer\n",
    "def train(epoch, loader, optimizer, metrics=[]):\n",
    "    n = len(loader)\n",
    "    tot_loss = 0.0\n",
    "    masks, mask_preds = [], []\n",
    "    y_preds = []\n",
    "    if 'pred' in metrics:\n",
    "        vis_img, vis_mask, vis_y_pred = [], [], []\n",
    "\n",
    "    model.train()\n",
    "    for batch_idx, (_, _, image, mask) in enumerate(loader):\n",
    "        y_pred = model(image.cuda())\n",
    "        image = image.detach().cpu()\n",
    "        loss = criterion(y_pred, mask.cuda())\n",
    "        loss.backward()\n",
    "        optimizer.step()\n",
    "\n",
    "        y_pred = y_pred.detach().cpu()\n",
    "        tot_loss += loss.item()\n",
    "\n",
    "        train_losses.append(loss.item())\n",
    "        y_preds.append(y_pred)\n",
    "        masks.append(mask)\n",
    "\n",
    "        if 'pred' in metrics:\n",
    "            if batch_idx in pred_fig_indices:\n",
    "                vis_img.append(image)\n",
    "                vis_mask.append(mask)\n",
    "                vis_y_pred.append(y_pred)\n",
    "\n",
    "        n_arr = (50*(batch_idx+1))//n\n",
    "        progress = 'Training : [{}>{}] ({}/{}) loss : {:.4f}, avg_loss : {:.4f}'.format(\n",
    "            '='*n_arr, '-'*(50-n_arr), (batch_idx+1), n, loss.item(), tot_loss/(batch_idx+1))\n",
    "        # if 'acc' in metrics:\n",
    "        #     progress = '{}, acc : {:.4f}, avg_acc : {:.4f}'.format(progress, acc, tot_acc/(batch_idx+1))\n",
    "        print(progress, end='\\r')\n",
    "\n",
    "    print(\"\\n\")\n",
    "    logg = {\n",
    "        'training_loss': tot_loss/n,\n",
    "    }\n",
    "\n",
    "    # Metrics\n",
    "    masks = torch.cat(masks, dim=0)\n",
    "    y_preds = torch.cat(y_preds, dim=0)\n",
    "    return masks, y_preds\n",
    "#     logg_metrics = gatherMetrics(\n",
    "#         params=(masks, y_preds),\n",
    "#         metrics=metrics,\n",
    "#         mode='train',\n",
    "#         i2n=index2name,\n",
    "#     )\n",
    "#     logg.update(logg_metrics)\n",
    "\n",
    "#     # Visualizations\n",
    "#     if 'pred' in metrics:\n",
    "#         vis_img = torch.cat(vis_img, dim=0)\n",
    "#         vis_mask = torch.cat(vis_mask, dim=0)\n",
    "#         vis_y_pred = torch.cat(vis_y_pred, dim=0)\n",
    "#         vis_mask_pred = predict(None, None, use_cache=True, params=(vis_y_pred, False))\n",
    "#         pred_fig = showPredictions(\n",
    "#             vis_img, vis_mask, vis_mask_pred, \n",
    "#             use_path=False, ret='fig', debug=False, size='auto',\n",
    "#             getMatch=True,\n",
    "#         )\n",
    "#         logg.update({'train_prediction': wandb.Image(pred_fig)})\n",
    "\n",
    "#     return logg\n",
    "\n"
   ]
  },
  {
   "cell_type": "code",
   "execution_count": 37,
   "metadata": {},
   "outputs": [
    {
     "name": "stdout",
     "output_type": "stream",
     "text": [
      "Training : [==================================================>] (18/18) loss : 0.8093, avg_loss : 0.8048\n",
      "\n",
      "Time : 33.14039134979248 seconds\n"
     ]
    }
   ],
   "source": [
    "masks, y_preds = train(1, train_loader, optimizer)\n",
    "y_preds = torch.nn.Softmax(dim=1)(y_preds)"
   ]
  },
  {
   "cell_type": "code",
   "execution_count": 35,
   "metadata": {},
   "outputs": [
    {
     "name": "stdout",
     "output_type": "stream",
     "text": [
      "0.50433445\n",
      "0.49566555\n"
     ]
    }
   ],
   "source": [
    "mask = masks[0]\n",
    "y_prob = y_preds[0]\n",
    "\n",
    "mask_bg = mask[mask==0]\n",
    "mask_street = mask[mask==1]\n",
    "\n",
    "# For all background ground truths calculate average bg & street score\n",
    "y_prob_bg = y_prob[0][mask==0].numpy()\n",
    "y_prob_street = y_prob[1][mask==0].numpy()\n",
    "\n",
    "print(np.mean(y_prob_bg))\n",
    "print(np.mean(y_prob_street))\n",
    "\n",
    "# print(y_prob[0][mask_bg].shape)\n",
    "\n",
    "# for "
   ]
  },
  {
   "cell_type": "code",
   "execution_count": 36,
   "metadata": {},
   "outputs": [
    {
     "name": "stdout",
     "output_type": "stream",
     "text": [
      "0.5011159\n",
      "0.49888414\n"
     ]
    }
   ],
   "source": [
    "y_prob_bg = y_prob[0][mask==1].numpy()\n",
    "y_prob_street = y_prob[1][mask==1].numpy()\n",
    "\n",
    "print(np.mean(y_prob_bg))\n",
    "print(np.mean(y_prob_street))\n"
   ]
  },
  {
   "cell_type": "code",
   "execution_count": null,
   "metadata": {},
   "outputs": [],
   "source": []
  }
 ],
 "metadata": {
  "kernelspec": {
   "display_name": "Python 3",
   "language": "python",
   "name": "python3"
  },
  "language_info": {
   "codemirror_mode": {
    "name": "ipython",
    "version": 3
   },
   "file_extension": ".py",
   "mimetype": "text/x-python",
   "name": "python",
   "nbconvert_exporter": "python",
   "pygments_lexer": "ipython3",
   "version": "3.6.9"
  }
 },
 "nbformat": 4,
 "nbformat_minor": 4
}
