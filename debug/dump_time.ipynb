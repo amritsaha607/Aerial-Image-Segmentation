{
 "cells": [
  {
   "cell_type": "code",
   "execution_count": 1,
   "metadata": {},
   "outputs": [],
   "source": [
    "import sys\n",
    "sys.path.append('../')\n",
    "\n",
    "import torch.tensor as t\n",
    "import numpy as np\n",
    "import torch\n",
    "from utils.decorators import timer"
   ]
  },
  {
   "cell_type": "code",
   "execution_count": 2,
   "metadata": {},
   "outputs": [],
   "source": [
    "# Argmax Check\n",
    "\n",
    "@timer\n",
    "def test(x, mode='torch'):\n",
    "    if mode=='torch':\n",
    "        y = torch.argmax(x, dim=1)\n",
    "    else:\n",
    "        y = t(np.argmax(x.numpy(), axis=1))"
   ]
  },
  {
   "cell_type": "code",
   "execution_count": 3,
   "metadata": {},
   "outputs": [
    {
     "name": "stdout",
     "output_type": "stream",
     "text": [
      "Torch\n",
      "Time : 23.165059804916382 seconds\n",
      "Numpy\n",
      "Time : 2.1946091651916504 seconds\n"
     ]
    }
   ],
   "source": [
    "x = torch.rand(18, 3, 2048, 2048)\n",
    "print(\"Torch\")\n",
    "test(x, mode='torch')\n",
    "print(\"Numpy\")\n",
    "test(x, mode='numpy')"
   ]
  },
  {
   "cell_type": "code",
   "execution_count": null,
   "metadata": {},
   "outputs": [],
   "source": []
  }
 ],
 "metadata": {
  "kernelspec": {
   "display_name": "Python 3",
   "language": "python",
   "name": "python3"
  },
  "language_info": {
   "codemirror_mode": {
    "name": "ipython",
    "version": 3
   },
   "file_extension": ".py",
   "mimetype": "text/x-python",
   "name": "python",
   "nbconvert_exporter": "python",
   "pygments_lexer": "ipython3",
   "version": "3.6.9"
  }
 },
 "nbformat": 4,
 "nbformat_minor": 4
}
