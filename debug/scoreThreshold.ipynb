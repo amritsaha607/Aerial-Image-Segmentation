{
 "cells": [
  {
   "cell_type": "code",
   "execution_count": 1,
   "metadata": {},
   "outputs": [],
   "source": [
    "import sys\n",
    "sys.path.append('../')\n",
    "\n",
    "import matplotlib.pyplot as plt"
   ]
  },
  {
   "cell_type": "code",
   "execution_count": 2,
   "metadata": {},
   "outputs": [],
   "source": [
    "import torch\n",
    "import torch.nn as nn\n",
    "import numpy as np"
   ]
  },
  {
   "cell_type": "code",
   "execution_count": 3,
   "metadata": {},
   "outputs": [],
   "source": [
    "np.random.seed(0)"
   ]
  },
  {
   "cell_type": "code",
   "execution_count": 4,
   "metadata": {},
   "outputs": [
    {
     "name": "stdout",
     "output_type": "stream",
     "text": [
      "tensor([[0.3090, 0.3649, 0.3261],\n",
      "        [0.3342, 0.2961, 0.3697],\n",
      "        [0.2343, 0.3691, 0.3966],\n",
      "        [0.2732, 0.4109, 0.3159],\n",
      "        [0.3291, 0.4706, 0.2002],\n",
      "        [0.2474, 0.2313, 0.5213],\n",
      "        [0.3014, 0.3304, 0.3683],\n",
      "        [0.3711, 0.2647, 0.3642],\n",
      "        [0.2695, 0.4541, 0.2764],\n",
      "        [0.4457, 0.2920, 0.2623]], dtype=torch.float64)\n"
     ]
    }
   ],
   "source": [
    "n_classes, n_ex = 3, 10\n",
    "y_pred = torch.tensor(np.random.rand(n_ex, n_classes))\n",
    "y_pred = torch.nn.Softmax(dim=1)(y_pred)\n",
    "print(y_pred)"
   ]
  },
  {
   "cell_type": "code",
   "execution_count": 5,
   "metadata": {},
   "outputs": [],
   "source": [
    "def predict(x, model, use_cache=False, params=None, thres=None):\n",
    "\n",
    "    if use_cache:\n",
    "        y_pred, softmax = params\n",
    "        if not softmax:\n",
    "            y_pred = torch.nn.Softmax(dim=1)(y_pred)\n",
    "    else:\n",
    "        y_pred = model(x)\n",
    "        y_pred = torch.nn.Softmax(dim=1)(y_pred)\n",
    "\n",
    "    if thres is None or thres=='auto':\n",
    "        # Torch argmax is slow (compared with 18 examples, torch => 23.5 secs, numpy => 1.6 secs)\n",
    "        masks = torch.tensor(np.argmax(y_pred.numpy(), axis=1))\n",
    "    else:\n",
    "        masks = np.zeros((y_pred.size(0),))\n",
    "        for cls_ in reversed(list(thres.keys())):\n",
    "            masks[y_pred[:, cls_] > thres[cls_]] = cls_\n",
    "    return masks\n"
   ]
  },
  {
   "cell_type": "code",
   "execution_count": 6,
   "metadata": {},
   "outputs": [
    {
     "data": {
      "text/plain": [
       "tensor([1, 2, 2, 1, 1, 2, 2, 0, 1, 0])"
      ]
     },
     "execution_count": 6,
     "metadata": {},
     "output_type": "execute_result"
    }
   ],
   "source": [
    "predict(None, None, use_cache=True, params=(y_pred, True), thres=None)"
   ]
  },
  {
   "cell_type": "code",
   "execution_count": 7,
   "metadata": {},
   "outputs": [
    {
     "data": {
      "text/plain": [
       "tensor([1, 2, 2, 1, 1, 2, 2, 0, 1, 0])"
      ]
     },
     "execution_count": 7,
     "metadata": {},
     "output_type": "execute_result"
    }
   ],
   "source": [
    "predict(None, None, use_cache=True, params=(y_pred, True), thres='auto')"
   ]
  },
  {
   "cell_type": "code",
   "execution_count": 8,
   "metadata": {},
   "outputs": [
    {
     "name": "stdout",
     "output_type": "stream",
     "text": [
      "[1. 2. 1. 1. 1. 2. 1. 2. 1. 0.]\n",
      "tensor([[0.3090, 0.3649, 0.3261],\n",
      "        [0.3342, 0.2961, 0.3697],\n",
      "        [0.2343, 0.3691, 0.3966],\n",
      "        [0.2732, 0.4109, 0.3159],\n",
      "        [0.3291, 0.4706, 0.2002],\n",
      "        [0.2474, 0.2313, 0.5213],\n",
      "        [0.3014, 0.3304, 0.3683],\n",
      "        [0.3711, 0.2647, 0.3642],\n",
      "        [0.2695, 0.4541, 0.2764],\n",
      "        [0.4457, 0.2920, 0.2623]], dtype=torch.float64)\n"
     ]
    }
   ],
   "source": [
    "# O has highest priority, align the keys in the priority order\n",
    "\n",
    "# thres = {\n",
    "#     0 : 0.42,\n",
    "#     1 : 0.33,\n",
    "#     2 : 0.25,\n",
    "# }\n",
    "thresholds = \"0:0.42,1:0.33,2:0.25\"\n",
    "thres = {int(elem.split(':')[0]): float(elem.split(':')[1]) for elem in thresholds.split(',')}\n",
    "\n",
    "print(predict(None, None, use_cache=True, params=(y_pred, True), thres=thres))\n",
    "print(y_pred)"
   ]
  },
  {
   "cell_type": "code",
   "execution_count": 9,
   "metadata": {},
   "outputs": [
    {
     "name": "stdout",
     "output_type": "stream",
     "text": [
      "[2. 2. 2. 2. 1. 2. 2. 2. 2. 0.]\n",
      "tensor([[0.3090, 0.3649, 0.3261],\n",
      "        [0.3342, 0.2961, 0.3697],\n",
      "        [0.2343, 0.3691, 0.3966],\n",
      "        [0.2732, 0.4109, 0.3159],\n",
      "        [0.3291, 0.4706, 0.2002],\n",
      "        [0.2474, 0.2313, 0.5213],\n",
      "        [0.3014, 0.3304, 0.3683],\n",
      "        [0.3711, 0.2647, 0.3642],\n",
      "        [0.2695, 0.4541, 0.2764],\n",
      "        [0.4457, 0.2920, 0.2623]], dtype=torch.float64)\n"
     ]
    }
   ],
   "source": [
    "# Ordering matters\n",
    "# thres = {\n",
    "#     0 : 0.42,\n",
    "#     2 : 0.25,\n",
    "#     1 : 0.33,\n",
    "# }\n",
    "thresholds = \"0:0.42,2:0.25,1:0.33\"\n",
    "thres = {int(elem.split(':')[0]): float(elem.split(':')[1]) for elem in thresholds.split(',')}\n",
    "\n",
    "print(predict(None, None, use_cache=True, params=(y_pred, True), thres=thres))\n",
    "print(y_pred)"
   ]
  },
  {
   "cell_type": "code",
   "execution_count": 24,
   "metadata": {},
   "outputs": [
    {
     "name": "stdout",
     "output_type": "stream",
     "text": [
      "{0: 0.5, 1: 0.33, 2: 0.17}\n"
     ]
    }
   ],
   "source": [
    "thresholds = \"0:.5,1:0.33,2:0.17\"\n",
    "thresholds = {int(elem.split(':')[0]): float(elem.split(':')[1]) for elem in thresholds.split(',')}\n",
    "print(thresholds)"
   ]
  },
  {
   "cell_type": "code",
   "execution_count": 26,
   "metadata": {},
   "outputs": [
    {
     "name": "stdout",
     "output_type": "stream",
     "text": [
      "{0: 0.5, 2: 0.33, 1: 0.17}\n"
     ]
    }
   ],
   "source": [
    "thresholds = \"0:.5,2:0.33,1:0.17\"\n",
    "thresholds = {int(elem.split(':')[0]): float(elem.split(':')[1]) for elem in thresholds.split(',')}\n",
    "print(thresholds)"
   ]
  },
  {
   "cell_type": "code",
   "execution_count": null,
   "metadata": {},
   "outputs": [],
   "source": []
  }
 ],
 "metadata": {
  "kernelspec": {
   "display_name": "Python 3",
   "language": "python",
   "name": "python3"
  },
  "language_info": {
   "codemirror_mode": {
    "name": "ipython",
    "version": 3
   },
   "file_extension": ".py",
   "mimetype": "text/x-python",
   "name": "python",
   "nbconvert_exporter": "python",
   "pygments_lexer": "ipython3",
   "version": "3.6.9"
  }
 },
 "nbformat": 4,
 "nbformat_minor": 4
}
