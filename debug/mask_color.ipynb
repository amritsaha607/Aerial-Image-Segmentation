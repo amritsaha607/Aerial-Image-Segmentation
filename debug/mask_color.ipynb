{
 "cells": [
  {
   "cell_type": "code",
   "execution_count": 2,
   "metadata": {},
   "outputs": [],
   "source": [
    "import matplotlib.pyplot as plt\n",
    "import numpy as np\n",
    "import seaborn as sns"
   ]
  },
  {
   "cell_type": "code",
   "execution_count": 3,
   "metadata": {},
   "outputs": [
    {
     "data": {
      "image/png": "[encoded data removed]",
      "text/plain": [
       "<Figure size 432x288 with 2 Axes>"
      ]
     },
     "metadata": {
      "needs_background": "light"
     },
     "output_type": "display_data"
    }
   ],
   "source": [
    "fig, ax = plt.subplots(1, 2)\n",
    "x1 = np.zeros((200, 200))\n",
    "x2 = np.ones((200, 200))\n",
    "ax[0].imshow(x1); ax[0].set_title('0s')\n",
    "ax[1].imshow(x2); ax[1].set_title('1s')\n",
    "for ax_ in ax:\n",
    "    ax_.axis('off')\n",
    "# ax[:].axis('off')\n",
    "plt.show()"
   ]
  },
  {
   "cell_type": "code",
   "execution_count": 4,
   "metadata": {},
   "outputs": [],
   "source": [
    "colors = ['red', 'green']"
   ]
  },
  {
   "cell_type": "code",
   "execution_count": 5,
   "metadata": {},
   "outputs": [
    {
     "data": {
      "image/png": "[encoded data removed]",
      "text/plain": [
       "<Figure size 432x288 with 2 Axes>"
      ]
     },
     "metadata": {
      "needs_background": "light"
     },
     "output_type": "display_data"
    }
   ],
   "source": [
    "import matplotlib\n",
    "\n",
    "fig, ax = plt.subplots(1, 2)\n",
    "x1 = np.zeros((200, 200))\n",
    "x2 = np.ones((200, 200))\n",
    "# x2[0:20,0:20]=0\n",
    "ax[0].imshow(x1, vmin=0, vmax=2, cmap=matplotlib.colors.ListedColormap(colors)); ax[0].set_title('0s')\n",
    "ax[1].imshow(x2, vmin=0, vmax=2, cmap=matplotlib.colors.ListedColormap(colors)); ax[1].set_title('1s')\n",
    "for ax_ in ax:\n",
    "    ax_.axis('off')\n",
    "# ax[:].axis('off')\n",
    "plt.show()"
   ]
  },
  {
   "cell_type": "code",
   "execution_count": null,
   "metadata": {},
   "outputs": [],
   "source": []
  }
 ],
 "metadata": {
  "kernelspec": {
   "display_name": "Python 3",
   "language": "python",
   "name": "python3"
  },
  "language_info": {
   "codemirror_mode": {
    "name": "ipython",
    "version": 3
   },
   "file_extension": ".py",
   "mimetype": "text/x-python",
   "name": "python",
   "nbconvert_exporter": "python",
   "pygments_lexer": "ipython3",
   "version": "3.6.9"
  }
 },
 "nbformat": 4,
 "nbformat_minor": 4
}
