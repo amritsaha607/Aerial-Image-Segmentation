{
 "cells": [
  {
   "cell_type": "code",
   "execution_count": 1,
   "metadata": {},
   "outputs": [],
   "source": [
    "import sys\n",
    "sys.path.append('../')\n",
    "\n",
    "import time\n",
    "import random\n",
    "import numpy as np\n",
    "import torch\n",
    "import torch.tensor as t\n",
    "import torch.nn as nn\n",
    "from random import randint\n",
    "from utils.decorators import timer"
   ]
  },
  {
   "cell_type": "code",
   "execution_count": null,
   "metadata": {},
   "outputs": [],
   "source": [
    "batch = 8\n",
    "height = 50\n",
    "width = 50"
   ]
  },
  {
   "cell_type": "code",
   "execution_count": null,
   "metadata": {},
   "outputs": [],
   "source": [
    "x = torch.rand(batch, 3, height, width)\n",
    "x = nn.Softmax(dim=1)(x)\n",
    "print(x.shape)"
   ]
  },
  {
   "cell_type": "code",
   "execution_count": null,
   "metadata": {},
   "outputs": [],
   "source": [
    "for i in range(10):\n",
    "    b, h, w = randint(0, batch-1), randint(0, height-1), randint(0, width-1)\n",
    "    print(x[b, :, h, w].sum().item())"
   ]
  },
  {
   "cell_type": "code",
   "execution_count": null,
   "metadata": {},
   "outputs": [],
   "source": [
    "x_new = x.permute(0, 2, 3, 1).contiguous().view(-1, 3)\n",
    "# x_new = x_new\n",
    "print(x_new.shape)"
   ]
  },
  {
   "cell_type": "code",
   "execution_count": null,
   "metadata": {},
   "outputs": [],
   "source": [
    "n = x_new.shape[1]\n",
    "for i in range(100):\n",
    "    idx = randint(0, n-1)\n",
    "    print(x_new[idx, :].sum().item())"
   ]
  },
  {
   "cell_type": "code",
   "execution_count": 7,
   "metadata": {},
   "outputs": [
    {
     "name": "stdout",
     "output_type": "stream",
     "text": [
      "200 200 200\n",
      "200 106 94\n"
     ]
    }
   ],
   "source": [
    "# Mask length\n",
    "\n",
    "x = torch.rand(200,)>0.5\n",
    "mask_0 = x==0\n",
    "mask_non0 = x!=0\n",
    "print(len(x), len(mask_0), len(mask_non0))\n",
    "\n",
    "mask_0 = torch.nonzero(mask_0)\n",
    "mask_non0 = torch.nonzero(mask_non0)\n",
    "print(len(x), len(mask_0), len(mask_non0))\n"
   ]
  },
  {
   "cell_type": "code",
   "execution_count": 28,
   "metadata": {},
   "outputs": [
    {
     "name": "stdout",
     "output_type": "stream",
     "text": [
      "0.1169424057006836\n",
      "838589 838589\n",
      "Time : 0.32019925117492676 seconds\n",
      "838589 838589\n"
     ]
    }
   ],
   "source": [
    "# Time\n",
    "\n",
    "@timer\n",
    "def f(x, factor=1):\n",
    "    mask_0 = torch.nonzero(x==0)\n",
    "    mask_non0 = torch.nonzero(x!=0)\n",
    "    n_neg, n_pos = len(mask_0), len(mask_non0)\n",
    "    \n",
    "    t1 = time.time()\n",
    "    n_neg_need = int(factor*n_pos)\n",
    "    # mask_mask_0 = torch.randint(len(mask_0), (n_neg_need,))       # 0.01 sec\n",
    "    # mask_mask_0 = random.sample(range(len(mask_0)), k=n_neg_need) # 0.9 sec\n",
    "    mask_mask_0 = torch.randperm(len(mask_0))[:n_neg_need]        # 0.11 sec\n",
    "    print(time.time()-t1)\n",
    "    print(len(mask_mask_0), len(np.unique(mask_mask_0)))    \n",
    "    \n",
    "    mask_0 = mask_0[mask_mask_0]\n",
    "    mask = (x!=0)\n",
    "    mask[mask_0] = True\n",
    "    return mask\n",
    "\n",
    "x = torch.rand(2048*2048,)>0.8\n",
    "mask = f(x)\n",
    "x = x[mask]\n",
    "\n",
    "n_pos = np.count_nonzero(x)\n",
    "n_neg = len(x)-n_pos\n",
    "print(n_pos, n_neg)"
   ]
  },
  {
   "cell_type": "code",
   "execution_count": null,
   "metadata": {},
   "outputs": [],
   "source": []
  },
  {
   "cell_type": "code",
   "execution_count": null,
   "metadata": {},
   "outputs": [],
   "source": []
  }
 ],
 "metadata": {
  "kernelspec": {
   "display_name": "Python 3",
   "language": "python",
   "name": "python3"
  },
  "language_info": {
   "codemirror_mode": {
    "name": "ipython",
    "version": 3
   },
   "file_extension": ".py",
   "mimetype": "text/x-python",
   "name": "python",
   "nbconvert_exporter": "python",
   "pygments_lexer": "ipython3",
   "version": "3.6.9"
  }
 },
 "nbformat": 4,
 "nbformat_minor": 4
}
