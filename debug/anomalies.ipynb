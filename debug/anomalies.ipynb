{
 "cells": [
  {
   "cell_type": "code",
   "execution_count": null,
   "metadata": {},
   "outputs": [],
   "source": [
    "import sys\n",
    "sys.path.append('../')"
   ]
  },
  {
   "cell_type": "code",
   "execution_count": 2,
   "metadata": {},
   "outputs": [],
   "source": [
    "from data.dataset import SegmentDataset\n",
    "from data.collate import collate\n",
    "from data.transforms import transform\n",
    "from utils.vis import *\n",
    "from utils.utils import *\n",
    "from metrics.metrics import pixelAccuracy\n",
    "\n",
    "import numpy as np\n",
    "import torch"
   ]
  },
  {
   "cell_type": "code",
   "execution_count": 3,
   "metadata": {},
   "outputs": [],
   "source": [
    "dataset = SegmentDataset(\n",
    "    annot='../assets/train_sample.txt', \n",
    "    transform=transform, \n",
    "    dim=(2048, 2048),\n",
    ")"
   ]
  },
  {
   "cell_type": "code",
   "execution_count": 7,
   "metadata": {},
   "outputs": [
    {
     "name": "stdout",
     "output_type": "stream",
     "text": [
      "acc : 0.975058, min_acc : 0.971690, max_acc : 0.990735, avg_acc : 0.979040, avg anomaly acc : 0.979040\r"
     ]
    }
   ],
   "source": [
    "min_acc, max_acc, tot_acc, tot_anomaly_acc = 1.0, 0.0, 0.0, 0.0\n",
    "n_anomalies = 0\n",
    "\n",
    "for idx, (_, mask_path, _, _) in enumerate(dataset):\n",
    "    \n",
    "    mask_original = processMask(\n",
    "        mask_path,\n",
    "        use_path=True,\n",
    "        bake_anomaly=False,\n",
    "        ret='arr',\n",
    "    )\n",
    "    mask_new = processMask(\n",
    "        mask_path,\n",
    "        use_path=True,\n",
    "        bake_anomaly=True,\n",
    "        ret='arr',\n",
    "    )\n",
    "    acc = pixelAccuracy(mask_original, mask_new)\n",
    "    min_acc = min(acc, min_acc)\n",
    "    max_acc = max(acc, max_acc)\n",
    "    tot_acc += acc\n",
    "    if acc!=1.0:\n",
    "        tot_anomaly_acc += acc\n",
    "        n_anomalies += 1\n",
    "    print(\"acc : {:.6f}, min_acc : {:.6f}, max_acc : {:.6f}, avg_acc : {:.6f}, avg anomaly acc : {:.6f}\"\n",
    "          .format(acc, min_acc, max_acc, tot_acc/(idx+1), tot_anomaly_acc/n_anomalies), end='\\r')"
   ]
  },
  {
   "cell_type": "code",
   "execution_count": null,
   "metadata": {},
   "outputs": [],
   "source": []
  }
 ],
 "metadata": {
  "kernelspec": {
   "display_name": "Python 3",
   "language": "python",
   "name": "python3"
  },
  "language_info": {
   "codemirror_mode": {
    "name": "ipython",
    "version": 3
   },
   "file_extension": ".py",
   "mimetype": "text/x-python",
   "name": "python",
   "nbconvert_exporter": "python",
   "pygments_lexer": "ipython3",
   "version": "3.6.9"
  }
 },
 "nbformat": 4,
 "nbformat_minor": 4
}
