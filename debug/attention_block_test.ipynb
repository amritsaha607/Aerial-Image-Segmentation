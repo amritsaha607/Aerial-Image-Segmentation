{
 "cells": [
  {
   "cell_type": "code",
   "execution_count": 1,
   "metadata": {},
   "outputs": [],
   "source": [
    "import sys\n",
    "sys.path.append('../')\n",
    "\n",
    "import matplotlib.pyplot as plt"
   ]
  },
  {
   "cell_type": "code",
   "execution_count": 2,
   "metadata": {},
   "outputs": [],
   "source": [
    "from models.attention_blocks import *\n",
    "from models.unet_blocks import *\n",
    "import torch\n",
    "import numpy as np"
   ]
  },
  {
   "cell_type": "code",
   "execution_count": 3,
   "metadata": {},
   "outputs": [],
   "source": [
    "sa = SpatialAttention(256, 128)\n",
    "ca = ChannelAttention(512)"
   ]
  },
  {
   "cell_type": "code",
   "execution_count": 4,
   "metadata": {},
   "outputs": [],
   "source": [
    "# x = torch.rand(1, 256, 32, 32) # Sample 32 X 32 image\n",
    "# x_low = torch.rand(1, 256, 32, 32) # Assuming low level features are already upsampled\n",
    "\n",
    "# print(\"Before sa : \", x.shape)\n",
    "# x = sa(x, x_low)\n",
    "# print(\"After sa : \", x.shape)\n",
    "# x = ca(x)\n",
    "# print(\"After ca : \", x.shape)"
   ]
  },
  {
   "cell_type": "code",
   "execution_count": 5,
   "metadata": {},
   "outputs": [
    {
     "name": "stdout",
     "output_type": "stream",
     "text": [
      "Down\n",
      "shape without attention :  torch.Size([1, 128, 16, 16])\n",
      "shape with attention :     torch.Size([1, 128, 16, 16])\n"
     ]
    }
   ],
   "source": [
    "# Down block before & after applying attention (channel)\n",
    "print(\"Down\")\n",
    "\n",
    "x = torch.rand(1, 256, 32, 32)\n",
    "\n",
    "down_block = Down(256, 128)\n",
    "x_down = down_block(x)\n",
    "print(\"shape without attention : \", x_down.shape)\n",
    "\n",
    "down_block = Down(256, 128, attention=True)\n",
    "x_down = down_block(x)\n",
    "print(\"shape with attention :    \", x_down.shape)"
   ]
  },
  {
   "cell_type": "code",
   "execution_count": 6,
   "metadata": {},
   "outputs": [
    {
     "name": "stdout",
     "output_type": "stream",
     "text": [
      "Up\n",
      "shape without attention :  torch.Size([1, 512, 32, 32])\n",
      "shape with attention :     torch.Size([1, 512, 32, 32])\n"
     ]
    }
   ],
   "source": [
    "# Up block before & after applying attention\n",
    "print(\"Up\")\n",
    "\n",
    "x_high = torch.rand(1, 128, 32, 32)\n",
    "x_low = torch.rand(1, 128, 16, 16)\n",
    "\n",
    "up_block = Up(256, 512)\n",
    "x_up = up_block(x_low, x_high)\n",
    "print(\"shape without attention : \", x_up.shape)\n",
    "\n",
    "up_block = Up(256, 512, attention=True)\n",
    "x_up = up_block(x_low, x_high)\n",
    "print(\"shape with attention :    \", x_up.shape)"
   ]
  },
  {
   "cell_type": "code",
   "execution_count": 7,
   "metadata": {},
   "outputs": [],
   "source": [
    "from models.unet import UNet"
   ]
  },
  {
   "cell_type": "code",
   "execution_count": 8,
   "metadata": {},
   "outputs": [],
   "source": [
    "x = torch.rand(1, 3, 32, 32)"
   ]
  },
  {
   "cell_type": "code",
   "execution_count": 9,
   "metadata": {},
   "outputs": [
    {
     "name": "stdout",
     "output_type": "stream",
     "text": [
      "torch.Size([1, 2, 32, 32])\n"
     ]
    }
   ],
   "source": [
    "unet = UNet()\n",
    "y = unet(x)\n",
    "print(y.shape)"
   ]
  },
  {
   "cell_type": "code",
   "execution_count": 10,
   "metadata": {},
   "outputs": [
    {
     "name": "stdout",
     "output_type": "stream",
     "text": [
      "torch.Size([1, 2, 32, 32])\n"
     ]
    }
   ],
   "source": [
    "unet = UNet(attention=True)\n",
    "y = unet(x)\n",
    "print(y.shape)"
   ]
  },
  {
   "cell_type": "code",
   "execution_count": null,
   "metadata": {},
   "outputs": [],
   "source": []
  }
 ],
 "metadata": {
  "kernelspec": {
   "display_name": "Python 3",
   "language": "python",
   "name": "python3"
  },
  "language_info": {
   "codemirror_mode": {
    "name": "ipython",
    "version": 3
   },
   "file_extension": ".py",
   "mimetype": "text/x-python",
   "name": "python",
   "nbconvert_exporter": "python",
   "pygments_lexer": "ipython3",
   "version": "3.6.9"
  }
 },
 "nbformat": 4,
 "nbformat_minor": 4
}
